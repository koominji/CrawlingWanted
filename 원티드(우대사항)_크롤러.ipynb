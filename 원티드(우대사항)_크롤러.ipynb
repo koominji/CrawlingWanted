{
  "nbformat": 4,
  "nbformat_minor": 0,
  "metadata": {
    "kernelspec": {
      "display_name": "Python 3",
      "language": "python",
      "name": "python3"
    },
    "language_info": {
      "codemirror_mode": {
        "name": "ipython",
        "version": 3
      },
      "file_extension": ".py",
      "mimetype": "text/x-python",
      "name": "python",
      "nbconvert_exporter": "python",
      "pygments_lexer": "ipython3",
      "version": "3.8.5"
    },
    "colab": {
      "name": "원티드(우대사항)_크롤러.ipynb",
      "provenance": [],
      "include_colab_link": true
    }
  },
  "cells": [
    {
      "cell_type": "markdown",
      "metadata": {
        "id": "view-in-github",
        "colab_type": "text"
      },
      "source": [
        "<a href=\"https://colab.research.google.com/github/koominji/CrawlingWanted/blob/main/%EC%9B%90%ED%8B%B0%EB%93%9C(%EC%9A%B0%EB%8C%80%EC%82%AC%ED%95%AD)_%ED%81%AC%EB%A1%A4%EB%9F%AC.ipynb\" target=\"_parent\"><img src=\"https://colab.research.google.com/assets/colab-badge.svg\" alt=\"Open In Colab\"/></a>"
      ]
    },
    {
      "cell_type": "markdown",
      "metadata": {
        "id": "7mKMnNHnWrJb"
      },
      "source": [
        "## \"원티드\"사이트에서 채용공고 중에서 \"우대사항\"만 크롤링한 코드입니다."
      ]
    },
    {
      "cell_type": "code",
      "metadata": {
        "colab": {
          "base_uri": "https://localhost:8080/"
        },
        "id": "0GfUbc9oZh27",
        "outputId": "8177153a-b0ab-45b4-9a33-910cd871da4f"
      },
      "source": [
        "!pip install selenium"
      ],
      "execution_count": 2,
      "outputs": [
        {
          "output_type": "stream",
          "name": "stdout",
          "text": [
            "Collecting selenium\n",
            "  Downloading selenium-4.1.0-py3-none-any.whl (958 kB)\n",
            "\u001b[K     |████████████████████████████████| 958 kB 5.1 MB/s \n",
            "\u001b[?25hCollecting trio-websocket~=0.9\n",
            "  Downloading trio_websocket-0.9.2-py3-none-any.whl (16 kB)\n",
            "Collecting trio~=0.17\n",
            "  Downloading trio-0.19.0-py3-none-any.whl (356 kB)\n",
            "\u001b[K     |████████████████████████████████| 356 kB 36.7 MB/s \n",
            "\u001b[?25hCollecting urllib3[secure]~=1.26\n",
            "  Downloading urllib3-1.26.7-py2.py3-none-any.whl (138 kB)\n",
            "\u001b[K     |████████████████████████████████| 138 kB 59.8 MB/s \n",
            "\u001b[?25hRequirement already satisfied: attrs>=19.2.0 in /usr/local/lib/python3.7/dist-packages (from trio~=0.17->selenium) (21.2.0)\n",
            "Requirement already satisfied: idna in /usr/local/lib/python3.7/dist-packages (from trio~=0.17->selenium) (2.10)\n",
            "Collecting sniffio\n",
            "  Downloading sniffio-1.2.0-py3-none-any.whl (10 kB)\n",
            "Collecting async-generator>=1.9\n",
            "  Downloading async_generator-1.10-py3-none-any.whl (18 kB)\n",
            "Collecting outcome\n",
            "  Downloading outcome-1.1.0-py2.py3-none-any.whl (9.7 kB)\n",
            "Requirement already satisfied: sortedcontainers in /usr/local/lib/python3.7/dist-packages (from trio~=0.17->selenium) (2.4.0)\n",
            "Collecting wsproto>=0.14\n",
            "  Downloading wsproto-1.0.0-py3-none-any.whl (24 kB)\n",
            "Collecting cryptography>=1.3.4\n",
            "  Downloading cryptography-36.0.0-cp36-abi3-manylinux_2_24_x86_64.whl (3.6 MB)\n",
            "\u001b[K     |████████████████████████████████| 3.6 MB 31.9 MB/s \n",
            "\u001b[?25hRequirement already satisfied: certifi in /usr/local/lib/python3.7/dist-packages (from urllib3[secure]~=1.26->selenium) (2021.10.8)\n",
            "Collecting pyOpenSSL>=0.14\n",
            "  Downloading pyOpenSSL-21.0.0-py2.py3-none-any.whl (55 kB)\n",
            "\u001b[K     |████████████████████████████████| 55 kB 3.5 MB/s \n",
            "\u001b[?25hRequirement already satisfied: cffi>=1.12 in /usr/local/lib/python3.7/dist-packages (from cryptography>=1.3.4->urllib3[secure]~=1.26->selenium) (1.15.0)\n",
            "Requirement already satisfied: pycparser in /usr/local/lib/python3.7/dist-packages (from cffi>=1.12->cryptography>=1.3.4->urllib3[secure]~=1.26->selenium) (2.21)\n",
            "Requirement already satisfied: six>=1.5.2 in /usr/local/lib/python3.7/dist-packages (from pyOpenSSL>=0.14->urllib3[secure]~=1.26->selenium) (1.15.0)\n",
            "Collecting h11<1,>=0.9.0\n",
            "  Downloading h11-0.12.0-py3-none-any.whl (54 kB)\n",
            "\u001b[K     |████████████████████████████████| 54 kB 3.3 MB/s \n",
            "\u001b[?25hInstalling collected packages: sniffio, outcome, h11, cryptography, async-generator, wsproto, urllib3, trio, pyOpenSSL, trio-websocket, selenium\n",
            "  Attempting uninstall: urllib3\n",
            "    Found existing installation: urllib3 1.24.3\n",
            "    Uninstalling urllib3-1.24.3:\n",
            "      Successfully uninstalled urllib3-1.24.3\n",
            "\u001b[31mERROR: pip's dependency resolver does not currently take into account all the packages that are installed. This behaviour is the source of the following dependency conflicts.\n",
            "requests 2.23.0 requires urllib3!=1.25.0,!=1.25.1,<1.26,>=1.21.1, but you have urllib3 1.26.7 which is incompatible.\n",
            "datascience 0.10.6 requires folium==0.2.1, but you have folium 0.8.3 which is incompatible.\u001b[0m\n",
            "Successfully installed async-generator-1.10 cryptography-36.0.0 h11-0.12.0 outcome-1.1.0 pyOpenSSL-21.0.0 selenium-4.1.0 sniffio-1.2.0 trio-0.19.0 trio-websocket-0.9.2 urllib3-1.26.7 wsproto-1.0.0\n"
          ]
        }
      ]
    },
    {
      "cell_type": "code",
      "metadata": {
        "id": "km1ww0W_WrJi"
      },
      "source": [
        "# 필요한 라이브러리 임포트\n",
        "from selenium import webdriver\n",
        "from selenium.webdriver.support.ui import Select\n",
        "import time\n",
        "from bs4 import BeautifulSoup\n",
        "import pandas as pd"
      ],
      "execution_count": 3,
      "outputs": []
    },
    {
      "cell_type": "code",
      "metadata": {
        "id": "f7t_OcXhWrJl"
      },
      "source": [
        "#  원티드 -> 탐색\n",
        "\n",
        "driver_path='chromedriver.exe'\n",
        "\n",
        "driver = webdriver.Chrome(executable_path=driver_path)\n",
        "driver.implicitly_wait(3)\n",
        "driver.get(\"https://www.wanted.co.kr/wdlist?country=kr&job_sort=job.latest_order&years=-1&locations=all\")\n",
        "driver.implicitly_wait(3)\n",
        "\n",
        "time.sleep(0.5)\n"
      ],
      "execution_count": null,
      "outputs": []
    },
    {
      "cell_type": "markdown",
      "metadata": {
        "id": "mpxFdUQNWrJm"
      },
      "source": [
        "## 새창뜨면 로그인하기"
      ]
    },
    {
      "cell_type": "code",
      "metadata": {
        "id": "2t4FHzAcWrJn"
      },
      "source": [
        "# 맨 밑까지 스크롤 내리는 코드\n",
        "\n",
        "last_page_height = driver.execute_script(\"return document.documentElement.scrollHeight\")\n",
        "\n",
        "while True:\n",
        "    driver.execute_script(\"window.scrollTo(0, document.documentElement.scrollHeight);\")\n",
        "    time.sleep(3.0)\n",
        "    new_page_height = driver.execute_script(\"return document.documentElement.scrollHeight\")\n",
        "\n",
        "    if new_page_height == last_page_height:\n",
        "        break\n",
        "    last_page_height = new_page_height"
      ],
      "execution_count": null,
      "outputs": []
    },
    {
      "cell_type": "code",
      "metadata": {
        "id": "LN9vI6aWWrJo"
      },
      "source": [
        "########## 스크롤 3번만 내리기\n",
        "\n",
        "last_page_height = driver.execute_script(\"return document.documentElement.scrollHeight\")\n",
        "\n",
        "for i in range(3):\n",
        "    driver.execute_script(\"window.scrollTo(0, document.documentElement.scrollHeight);\")\n",
        "    time.sleep(3.0)\n",
        "    new_page_height = driver.execute_script(\"return document.documentElement.scrollHeight\")\n",
        "\n",
        "    if new_page_height == last_page_height:\n",
        "        break\n",
        "    last_page_height = new_page_height"
      ],
      "execution_count": null,
      "outputs": []
    },
    {
      "cell_type": "code",
      "metadata": {
        "id": "uiwK0fHIWrJp"
      },
      "source": [
        "# 내린 페이지 코드 가져오기\n",
        "page = driver.page_source\n",
        "soup = BeautifulSoup(page,\"html.parser\") #html로 파싱\n",
        "\n",
        "# job card 긁어오기\n",
        "articles=soup.find_all('div',{'class':'_3D4OeuZHyGXN7wwibRM5BJ'})\n"
      ],
      "execution_count": null,
      "outputs": []
    },
    {
      "cell_type": "code",
      "metadata": {
        "id": "yUxEeqVPWrJq",
        "outputId": "1cc2c9d9-6b7a-4edf-cb67-730708cb6545"
      },
      "source": [
        "# 총 글 갯수\n",
        "len(articles)"
      ],
      "execution_count": null,
      "outputs": [
        {
          "data": {
            "text/plain": [
              "10551"
            ]
          },
          "execution_count": 126,
          "metadata": {},
          "output_type": "execute_result"
        }
      ]
    },
    {
      "cell_type": "code",
      "metadata": {
        "id": "hpQ7SVmcWrJs"
      },
      "source": [
        "result=[]\n",
        "resultList=[]"
      ],
      "execution_count": null,
      "outputs": []
    },
    {
      "cell_type": "code",
      "metadata": {
        "id": "8ZZ1zwTFWrJt"
      },
      "source": [
        "count=0"
      ],
      "execution_count": null,
      "outputs": []
    },
    {
      "cell_type": "code",
      "metadata": {
        "id": "vMHAmj8YWrJt",
        "outputId": "073e6717-029f-452d-f211-712d371334d3"
      },
      "source": [
        "for article in articles:\n",
        "    \n",
        "    time.sleep(2)\n",
        "    \n",
        "    # 회사이름\n",
        "    companyName = article.find('div',{'class':'job-card-company-name'})\n",
        "    cn=companyName.text\n",
        "    print(cn)\n",
        "    \n",
        "    # 채용포지션\n",
        "    jobPosition = article.find('div',{'class':'job-card-position'})\n",
        "    jp=jobPosition.text\n",
        "    print(jp)\n",
        "    \n",
        "    # 각 페이지 접속\n",
        "    each_job_page='https://www.wanted.co.kr'+article.a['href']\n",
        "    driver.get(each_job_page)\n",
        "    \n",
        "    page = driver.page_source\n",
        "    soup = BeautifulSoup(page,\"html.parser\") #html로 파싱\n",
        "    \n",
        "    #print(soup)\n",
        "    # 공고 제목\n",
        "    #print(title.text)\n",
        "    \n",
        "    # 내용 전체 가져옴 -> content\n",
        "    time.sleep(3)\n",
        "    content=soup.find('div',{'class':'_31EtVNPZ-KwYCXvVZ3927g'})\n",
        "    \n",
        "    try:\n",
        "        # !!! 우대사항만 뽑아오기\n",
        "        c=content.text\n",
        "        temp=c[c.find(\"우대사항\")+4:c.find(\"혜택 및 복지\")]\n",
        "        \n",
        "        result=[cn,jp,temp]\n",
        "        resultList.append(result)\n",
        "    \n",
        "        result_df = pd.DataFrame(resultList,columns=['company Name','job position','Preferential matters'])\n",
        "   \n",
        "    except: # 예외 나는 페이지 버림\n",
        "        print(\"\")\n",
        "    \n",
        "    count+=1\n",
        "    \n",
        "    "
      ],
      "execution_count": null,
      "outputs": [
        {
          "name": "stdout",
          "output_type": "stream",
          "text": [
            "라네띠\n",
            "웹디자이너\n",
            "씨디에프브로스\n",
            "데이터 마케팅팀 팀장급\n",
            "백패커(idus)\n",
            "[아이디어스] 푸드 카테고리 작가 영입(브랜드 소싱&영업) 담당\n"
          ]
        }
      ]
    },
    {
      "cell_type": "code",
      "metadata": {
        "id": "i6VUVLBnWrJu"
      },
      "source": [
        "result_df.to_csv('wantedTest.csv', encoding=\"utf-8-sig\")"
      ],
      "execution_count": null,
      "outputs": []
    }
  ]
}